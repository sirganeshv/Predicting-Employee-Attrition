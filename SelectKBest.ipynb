{
 "cells": [
  {
   "cell_type": "code",
   "execution_count": 87,
   "metadata": {},
   "outputs": [],
   "source": [
    "import pandas as pd\n",
    "import numpy as np\n",
    "from sklearn.feature_selection import SelectKBest\n",
<<<<<<< HEAD:SelectKBest.ipynb
    "from sklearn.feature_selection import chi2"
=======
    "from sklearn.feature_selection import chi2\n",
    "from sklearn.pipeline import make_pipeline\n",
    "from sklearn import linear_model\n",
    "from sklearn.model_selection import train_test_split\n",
    "from sklearn import metrics\n",
    "from sklearn.metrics import confusion_matrix\n",
    "from sklearn.metrics import classification_report\n",
    "from sklearn.neighbors import KNeighborsClassifier\n",
    "import math\n",
    "from sklearn.ensemble import RandomForestClassifier\n",
    "#from sklearn.feature_selection import f_classif"
   ]
  },
  {
   "cell_type": "code",
   "execution_count": 2,
   "metadata": {},
   "outputs": [],
   "source": [
    "df = pd.read_csv(\"WA_Fn-UseC_-HR-Employee-Attrition.csv\")"
   ]
  },
  {
   "cell_type": "code",
   "execution_count": 3,
   "metadata": {},
   "outputs": [
    {
     "data": {
      "text/plain": [
       "(1470, 35)"
      ]
     },
     "execution_count": 3,
     "metadata": {},
     "output_type": "execute_result"
    }
   ],
   "source": [
    "df.shape"
   ]
  },
  {
   "cell_type": "code",
   "execution_count": 4,
   "metadata": {
    "collapsed": true
   },
   "outputs": [],
   "source": [
    "le = preprocessing.LabelEncoder()"
   ]
  },
  {
   "cell_type": "code",
   "execution_count": 5,
   "metadata": {
    "collapsed": true
   },
   "outputs": [],
   "source": [
    "def encode_col(col_name):\n",
    "    encodes = le.fit(df[col_name])\n",
    "    new_col_name = \"e.\"+col_name\n",
    "    df[new_col_name] = df[col_name].map(lambda x: encodes.transform([x]))\n",
    "    df[new_col_name] = df[new_col_name].map(lambda x:x[0])\n",
    "    return"
   ]
  },
  {
   "cell_type": "code",
   "execution_count": 6,
   "metadata": {
    "collapsed": true
   },
   "outputs": [],
   "source": [
    "encode_col('Attrition')"
   ]
  },
  {
   "cell_type": "code",
   "execution_count": 7,
   "metadata": {
    "collapsed": true
   },
   "outputs": [],
   "source": [
    "encode_col('BusinessTravel')"
   ]
  },
  {
   "cell_type": "code",
   "execution_count": 8,
   "metadata": {
    "collapsed": true
   },
   "outputs": [],
   "source": [
    "encode_col('Department')"
   ]
  },
  {
   "cell_type": "code",
   "execution_count": 9,
   "metadata": {
    "collapsed": true
   },
   "outputs": [],
   "source": [
    "encode_col('EducationField')"
   ]
  },
  {
   "cell_type": "code",
   "execution_count": 10,
   "metadata": {
    "collapsed": true
   },
   "outputs": [],
   "source": [
    "encode_col('Gender')"
   ]
  },
  {
   "cell_type": "code",
   "execution_count": 11,
   "metadata": {
    "collapsed": true
   },
   "outputs": [],
   "source": [
    "encode_col('JobRole')"
   ]
  },
  {
   "cell_type": "code",
   "execution_count": 12,
   "metadata": {
    "collapsed": true
   },
   "outputs": [],
   "source": [
    "encode_col('MaritalStatus')"
   ]
  },
  {
   "cell_type": "code",
   "execution_count": 13,
   "metadata": {
    "collapsed": true
   },
   "outputs": [],
   "source": [
    "encode_col('Over18')"
   ]
  },
  {
   "cell_type": "code",
   "execution_count": 14,
   "metadata": {
    "collapsed": true
   },
   "outputs": [],
   "source": [
    "encode_col('OverTime')"
   ]
  },
  {
   "cell_type": "code",
   "execution_count": 15,
   "metadata": {
    "collapsed": true
   },
   "outputs": [],
   "source": [
    "X = df[[\"Age\",\"e.BusinessTravel\",\"DailyRate\",\"e.Department\",\"DistanceFromHome\",\"Education\",\"e.EducationField\",'EmployeeCount',\"EmployeeNumber\",\"EnvironmentSatisfaction\",\"e.Gender\",\"HourlyRate\",\"JobInvolvement\",\"JobLevel\",\"e.JobRole\",\"JobSatisfaction\",\"e.MaritalStatus\",\"MonthlyIncome\",\"MonthlyRate\",\"NumCompaniesWorked\",\"e.Over18\",\"e.OverTime\",\"PercentSalaryHike\",\"PerformanceRating\",\"RelationshipSatisfaction\",\"StandardHours\",\"StockOptionLevel\",\"TotalWorkingYears\",\"TrainingTimesLastYear\",\"WorkLifeBalance\",\"YearsAtCompany\",\"YearsInCurrentRole\",\"YearsSinceLastPromotion\",\"YearsWithCurrManager\"]]"
   ]
  },
  {
   "cell_type": "code",
   "execution_count": 16,
   "metadata": {
    "collapsed": true
   },
   "outputs": [],
   "source": [
    "Y = df[\"e.Attrition\"]"
>>>>>>> 9b5a255a424c7c1e10c98905be33761f1d00dd2e:SelecetKBest.ipynb
   ]
  },
  {
   "cell_type": "code",
   "execution_count": 17,
   "metadata": {},
   "outputs": [
    {
     "data": {
      "text/plain": [
       "(1470, 34)"
      ]
     },
     "execution_count": 17,
     "metadata": {},
     "output_type": "execute_result"
    }
   ],
   "source": []
  },
  {
   "cell_type": "code",
   "execution_count": 18,
   "metadata": {},
   "outputs": [
    {
     "data": {
      "text/plain": [
       "(1470,)"
      ]
     },
     "execution_count": 18,
     "metadata": {},
     "output_type": "execute_result"
    }
   ],
   "source": []
  },
  {
   "cell_type": "code",
   "execution_count": 19,
   "metadata": {
    "collapsed": true
   },
   "outputs": [],
   "source": [
    "feature_names = list(X.columns.values)"
   ]
  },
  {
   "cell_type": "code",
   "execution_count": 20,
   "metadata": {},
   "outputs": [
    {
     "data": {
      "text/plain": [
       "list"
      ]
     },
     "execution_count": 20,
     "metadata": {},
     "output_type": "execute_result"
    }
   ],
   "source": [
    "type(feature_names)"
   ]
  },
  {
   "cell_type": "code",
   "execution_count": 21,
   "metadata": {
    "collapsed": true
   },
   "outputs": [],
   "source": [
<<<<<<< HEAD:SelectKBest.ipynb
    "selector = SelectKBest(chi2, k=20)"
=======
    "#selector = SelectKBest(chi2, k=10)"
>>>>>>> 9b5a255a424c7c1e10c98905be33761f1d00dd2e:SelecetKBest.ipynb
   ]
  },
  {
   "cell_type": "code",
   "execution_count": 22,
   "metadata": {
    "collapsed": true
   },
   "outputs": [],
   "source": [
    "#selector = SelectKBest()"
   ]
  },
  {
   "cell_type": "code",
   "execution_count": 23,
   "metadata": {
    "scrolled": true
   },
   "outputs": [],
   "source": [
    "#selector.fit_transform(X, Y)"
   ]
  },
  {
   "cell_type": "code",
   "execution_count": 24,
   "metadata": {},
   "outputs": [],
   "source": [
    "X_train,X_test,y_train,y_test = train_test_split(X,Y,test_size = 0.20,random_state = 4)"
   ]
  },
  {
   "cell_type": "code",
   "execution_count": 84,
   "metadata": {
    "scrolled": true
   },
   "outputs": [],
   "source": [
    "pipe = make_pipeline(\n",
    "    SelectKBest(chi2,k=20), \n",
    "    linear_model.LogisticRegression()\n",
    ")\n",
    "pipe.fit(X_train, y_train)\n",
    "y_pred = pipe.predict(X_test)"
   ]
  },
  {
   "cell_type": "code",
   "execution_count": 85,
   "metadata": {},
   "outputs": [
    {
     "name": "stdout",
     "output_type": "stream",
     "text": [
      "0.880952380952\n"
     ]
    }
   ],
   "source": [
    "print(metrics.accuracy_score(y_test,y_pred))"
   ]
  },
  {
   "cell_type": "code",
   "execution_count": 72,
   "metadata": {},
   "outputs": [
    {
     "name": "stdout",
     "output_type": "stream",
     "text": [
      "[[251   0]\n",
      " [ 43   0]]\n"
     ]
    }
   ],
   "source": [
    "matrix = confusion_matrix(y_test,y_pred)\n",
    "print(matrix)"
   ]
  },
  {
   "cell_type": "code",
   "execution_count": 74,
   "metadata": {},
   "outputs": [
    {
     "name": "stdout",
     "output_type": "stream",
     "text": [
      "0.853741496599\n",
      "0.853741496599\n",
      "0.853741496599\n",
      "0.853741496599\n",
      "0.853741496599\n",
      "0.853741496599\n",
      "0.853741496599\n",
      "0.853741496599\n",
      "0.853741496599\n",
      "0.853741496599\n",
      "0.853741496599\n",
      "0.853741496599\n",
      "0.853741496599\n",
      "0.853741496599\n",
      "0.853741496599\n",
      "0.853741496599\n",
      "0.853741496599\n",
      "0.853741496599\n",
      "0.853741496599\n",
      "0.853741496599\n",
      "0.853741496599\n",
      "0.853741496599\n",
      "0.853741496599\n",
      "0.853741496599\n"
     ]
    }
   ],
   "source": [
    "for i in range(1,25) :\n",
    "    pipe1 = make_pipeline(\n",
    "        SelectKBest(chi2,k=20), \n",
    "        linear_model.LogisticRegression()\n",
    "    )\n",
    "    pipe1.fit(X_train, y_train)\n",
    "    y_pred1 = pipe1.predict(X_test)\n",
    "    print(metrics.accuracy_score(y_test,y_pred))"
   ]
  },
  {
   "cell_type": "code",
   "execution_count": null,
   "metadata": {
    "collapsed": true
   },
   "outputs": [],
   "source": []
  },
  {
   "cell_type": "code",
   "execution_count": null,
   "metadata": {
    "collapsed": true
   },
   "outputs": [],
   "source": []
  },
  {
   "cell_type": "code",
   "execution_count": 30,
   "metadata": {},
   "outputs": [],
   "source": [
    "#type(selector)"
   ]
  },
  {
   "cell_type": "code",
   "execution_count": 31,
   "metadata": {
    "collapsed": true
   },
   "outputs": [],
   "source": [
    "#mask = selector.get_support()"
   ]
  },
  {
   "cell_type": "code",
   "execution_count": 26,
   "metadata": {
    "collapsed": true
   },
   "outputs": [],
   "source": [
    "#params = selector.get_params(True)"
   ]
  },
  {
   "cell_type": "code",
   "execution_count": 27,
   "metadata": {},
<<<<<<< HEAD:SelectKBest.ipynb
   "outputs": [
    {
     "data": {
      "text/plain": [
       "dict"
      ]
     },
     "execution_count": 27,
     "metadata": {},
     "output_type": "execute_result"
    }
   ],
=======
   "outputs": [],
>>>>>>> 9b5a255a424c7c1e10c98905be33761f1d00dd2e:SelecetKBest.ipynb
   "source": [
    "#type(params)"
   ]
  },
  {
   "cell_type": "code",
   "execution_count": 28,
   "metadata": {},
<<<<<<< HEAD:SelectKBest.ipynb
   "outputs": [
    {
     "data": {
      "text/plain": [
       "dict_values([10, <function chi2 at 0x0000020FF0C6C840>])"
      ]
     },
     "execution_count": 28,
     "metadata": {},
     "output_type": "execute_result"
    }
   ],
=======
   "outputs": [],
>>>>>>> 9b5a255a424c7c1e10c98905be33761f1d00dd2e:SelecetKBest.ipynb
   "source": [
    "#params.values()"
   ]
  },
  {
   "cell_type": "code",
<<<<<<< HEAD:SelectKBest.ipynb
   "execution_count": 29,
   "metadata": {},
   "outputs": [
    {
     "data": {
      "text/plain": [
       "numpy.ndarray"
      ]
     },
     "execution_count": 29,
     "metadata": {},
     "output_type": "execute_result"
    }
   ],
=======
   "execution_count": 35,
   "metadata": {},
   "outputs": [],
>>>>>>> 9b5a255a424c7c1e10c98905be33761f1d00dd2e:SelecetKBest.ipynb
   "source": [
    "#type(mask)"
   ]
  },
  {
   "cell_type": "code",
<<<<<<< HEAD:SelectKBest.ipynb
   "execution_count": 30,
   "metadata": {},
   "outputs": [
    {
     "data": {
      "text/plain": [
       "array([ True, False,  True, False,  True, False, False, False, False,\n",
       "       False, False, False, False, False, False, False, False,  True,\n",
       "        True, False, False,  True, False, False, False, False, False,\n",
       "        True, False, False,  True,  True, False,  True], dtype=bool)"
      ]
     },
     "execution_count": 30,
     "metadata": {},
     "output_type": "execute_result"
    }
   ],
=======
   "execution_count": 36,
   "metadata": {},
   "outputs": [],
>>>>>>> 9b5a255a424c7c1e10c98905be33761f1d00dd2e:SelecetKBest.ipynb
   "source": [
    "#mask.view()"
   ]
  },
  {
   "cell_type": "code",
<<<<<<< HEAD:SelectKBest.ipynb
   "execution_count": 31,
=======
   "execution_count": 37,
>>>>>>> 9b5a255a424c7c1e10c98905be33761f1d00dd2e:SelecetKBest.ipynb
   "metadata": {
    "collapsed": true
   },
   "outputs": [],
   "source": [
    "new_features = []"
   ]
  },
  {
   "cell_type": "code",
<<<<<<< HEAD:SelectKBest.ipynb
   "execution_count": 32,
=======
   "execution_count": 38,
>>>>>>> 9b5a255a424c7c1e10c98905be33761f1d00dd2e:SelecetKBest.ipynb
   "metadata": {
    "collapsed": true
   },
   "outputs": [],
   "source": [
    "#for index, feature in zip(mask, feature_names):\n",
    "    #if index:\n",
    "        #new_features.append(feature)"
   ]
  },
  {
   "cell_type": "code",
<<<<<<< HEAD:SelectKBest.ipynb
   "execution_count": 33,
=======
   "execution_count": 39,
   "metadata": {},
   "outputs": [],
   "source": [
    "#for p in new_features: \n",
    "    #print(p)"
   ]
  },
  {
   "cell_type": "code",
   "execution_count": 40,
   "metadata": {
    "collapsed": true
   },
   "outputs": [],
   "source": [
    "l = len(df.index)"
   ]
  },
  {
   "cell_type": "raw",
   "metadata": {},
   "source": [
    "#for i in range(1,25) :\n",
    "pipe1 = make_pipeline(\n",
    "    SelectKBest(chi2,k=20), \n",
    "    KNeighborsClassifier(n_neighbors=int(math.sqrt(l)))\n",
    ")\n",
    "pipe1.fit(X_train, y_train)\n",
    "y_pred1 = pipe1.predict(X_test)\n",
    "print(metrics.accuracy_score(y_test,y_pred1))"
   ]
  },
  {
   "cell_type": "code",
   "execution_count": 77,
   "metadata": {},
   "outputs": [],
   "source": [
    "pipe1 = make_pipeline(\n",
    "    SelectKBest(chi2,k=20), \n",
    "    KNeighborsClassifier(n_neighbors=int(math.sqrt(l)))\n",
    ")\n",
    "pipe1.fit(X_train, y_train)\n",
    "y_pred1 = pipe1.predict(X_test)"
   ]
  },
  {
   "cell_type": "code",
   "execution_count": 78,
>>>>>>> 9b5a255a424c7c1e10c98905be33761f1d00dd2e:SelecetKBest.ipynb
   "metadata": {},
   "outputs": [
    {
     "name": "stdout",
     "output_type": "stream",
     "text": [
      "0.853741496599\n"
     ]
    }
   ],
   "source": [
    "print(metrics.accuracy_score(y_test,y_pred1))"
   ]
  },
  {
   "cell_type": "code",
   "execution_count": 75,
   "metadata": {
    "scrolled": true
   },
   "outputs": [
    {
     "name": "stdout",
     "output_type": "stream",
     "text": [
      "[[247   4]\n",
      " [ 31  12]]\n"
     ]
    }
   ],
   "source": [
    "matrix = confusion_matrix(y_test,y_pred1)\n",
    "print(matrix)"
   ]
  },
  {
   "cell_type": "code",
   "execution_count": 88,
   "metadata": {},
   "outputs": [],
   "source": [
    "clf=RandomForestClassifier(random_state=0)"
   ]
  },
  {
   "cell_type": "code",
   "execution_count": 89,
   "metadata": {
    "collapsed": true
   },
   "outputs": [],
   "source": [
    "pipe1 = make_pipeline(\n",
    "    SelectKBest(chi2,k=20), \n",
    "    RandomForestClassifier(random_state=0)\n",
    ")\n",
    "pipe1.fit(X_train, y_train)\n",
    "y_pred1 = pipe1.predict(X_test)"
   ]
  },
  {
   "cell_type": "code",
   "execution_count": 90,
   "metadata": {},
   "outputs": [
    {
     "name": "stdout",
     "output_type": "stream",
     "text": [
      "0.860544217687\n"
     ]
    }
   ],
   "source": [
    "print(metrics.accuracy_score(y_test,y_pred1))"
   ]
  },
  {
   "cell_type": "code",
   "execution_count": 91,
   "metadata": {},
   "outputs": [
    {
     "name": "stdout",
     "output_type": "stream",
     "text": [
      "[[246   5]\n",
      " [ 36   7]]\n"
     ]
    }
   ],
   "source": [
    "matrix = confusion_matrix(y_test,y_pred1)\n",
    "print(matrix)"
   ]
  },
  {
   "cell_type": "code",
   "execution_count": 93,
   "metadata": {},
   "outputs": [
    {
     "name": "stdout",
     "output_type": "stream",
     "text": [
      "0.880952380952\n",
      "[[246   5]\n",
      " [ 36   7]]\n",
      "0.880952380952\n",
      "[[246   5]\n",
      " [ 36   7]]\n",
      "0.880952380952\n",
      "[[246   5]\n",
      " [ 36   7]]\n",
      "0.880952380952\n",
      "[[246   5]\n",
      " [ 36   7]]\n",
      "0.880952380952\n",
      "[[246   5]\n",
      " [ 36   7]]\n",
      "0.880952380952\n",
      "[[246   5]\n",
      " [ 36   7]]\n",
      "0.880952380952\n",
      "[[246   5]\n",
      " [ 36   7]]\n",
      "0.880952380952\n",
      "[[246   5]\n",
      " [ 36   7]]\n",
      "0.880952380952\n",
      "[[246   5]\n",
      " [ 36   7]]\n",
      "0.880952380952\n",
      "[[246   5]\n",
      " [ 36   7]]\n",
      "0.880952380952\n",
      "[[246   5]\n",
      " [ 36   7]]\n",
      "0.880952380952\n",
      "[[246   5]\n",
      " [ 36   7]]\n",
      "0.880952380952\n",
      "[[246   5]\n",
      " [ 36   7]]\n",
      "0.880952380952\n",
      "[[246   5]\n",
      " [ 36   7]]\n",
      "0.880952380952\n",
      "[[246   5]\n",
      " [ 36   7]]\n",
      "0.880952380952\n",
      "[[246   5]\n",
      " [ 36   7]]\n",
      "0.880952380952\n",
      "[[246   5]\n",
      " [ 36   7]]\n",
      "0.880952380952\n",
      "[[246   5]\n",
      " [ 36   7]]\n",
      "0.880952380952\n",
      "[[246   5]\n",
      " [ 36   7]]\n",
      "0.880952380952\n",
      "[[246   5]\n",
      " [ 36   7]]\n",
      "0.880952380952\n",
      "[[246   5]\n",
      " [ 36   7]]\n",
      "0.880952380952\n",
      "[[246   5]\n",
      " [ 36   7]]\n",
      "0.880952380952\n",
      "[[246   5]\n",
      " [ 36   7]]\n",
      "0.880952380952\n",
      "[[246   5]\n",
      " [ 36   7]]\n"
     ]
    }
   ],
   "source": [
    "for i in range(1,25) :\n",
    "    pipe1 = make_pipeline(\n",
    "        SelectKBest(chi2,k=20), \n",
    "        RandomForestClassifier(random_state=0)\n",
    "    )\n",
    "    pipe1.fit(X_train, y_train)\n",
    "    y_pred1 = pipe1.predict(X_test)\n",
    "    print(metrics.accuracy_score(y_test,y_pred))\n",
    "    matrix = confusion_matrix(y_test,y_pred1)\n",
    "    print(matrix)"
   ]
  }
 ],
 "metadata": {
  "kernelspec": {
   "display_name": "Python 3",
   "language": "python",
   "name": "python3"
  },
  "language_info": {
   "codemirror_mode": {
    "name": "ipython",
    "version": 3
   },
   "file_extension": ".py",
   "mimetype": "text/x-python",
   "name": "python",
   "nbconvert_exporter": "python",
   "pygments_lexer": "ipython3",
   "version": "3.6.3"
  }
 },
 "nbformat": 4,
 "nbformat_minor": 2
}
