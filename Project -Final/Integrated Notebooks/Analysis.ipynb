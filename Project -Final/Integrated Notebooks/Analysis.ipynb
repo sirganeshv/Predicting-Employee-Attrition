{
 "cells": [
  {
   "cell_type": "code",
   "execution_count": 1,
   "metadata": {
    "collapsed": true
   },
   "outputs": [],
   "source": [
    "import sklearn\n",
    "import numpy as np"
   ]
  },
  {
   "cell_type": "code",
   "execution_count": 2,
   "metadata": {
    "collapsed": true
   },
   "outputs": [],
   "source": [
    "from sklearn.metrics import accuracy_score\n",
    "from sklearn.metrics import mean_squared_error\n",
    "from sklearn.metrics import r2_score\n",
    "from sklearn.metrics import confusion_matrix\n",
    "from sklearn.metrics import classification_report\n",
    "from sklearn.model_selection import cross_val_score"
   ]
  },
  {
   "cell_type": "code",
   "execution_count": 3,
   "metadata": {
    "collapsed": true
   },
   "outputs": [],
   "source": [
    "%store -r X_train\n",
    "%store -r y_test\n",
    "%store -r y_train"
   ]
  },
  {
   "cell_type": "code",
   "execution_count": 4,
   "metadata": {
    "collapsed": true
   },
   "outputs": [],
   "source": [
    "bold = \"\\033[1m\"\n",
    "reset = \"\\033[0;0m\""
   ]
  },
  {
   "cell_type": "code",
   "execution_count": 5,
   "metadata": {
    "collapsed": true
   },
   "outputs": [],
   "source": [
    "def get_accuracy(y_pred) :\n",
    "    accuracy=accuracy_score(y_test,y_pred)\n",
    "    #array = np.asarray(y_test)\n",
    "    #print(bold + \"Y_TEST : \\n\" + reset, array.view())\n",
    "    #print(bold + \"Y_PRED : \\n\" + reset, y_pred.view())\n",
    "    print(bold + \"ACCURACY : \" + reset, accuracy)\n",
    "    return accuracy"
   ]
  },
  {
   "cell_type": "code",
   "execution_count": 6,
   "metadata": {
    "collapsed": true
   },
   "outputs": [],
   "source": [
    "def get_cross_validation(clf) :\n",
    "    #cross_validation=accuracy_score(y_train,trained_model.predict(X_train))\n",
    "    cross_validation = cross_val_score(clf, X_train, y_train)\n",
    "    print(bold + \"CROSS VALIDATION SCORE : \" + reset, cross_validation.mean())\n",
    "    return cross_validation.mean()"
   ]
  },
  {
   "cell_type": "code",
   "execution_count": 7,
   "metadata": {
    "collapsed": true
   },
   "outputs": [],
   "source": [
    "def get_mean_square_error(y_pred) :\n",
    "    m_error=mean_squared_error(y_test,y_pred)\n",
    "    print(bold + \"MEAN SQUARED ERROR : \" + reset, m_error)\n",
    "    return m_error"
   ]
  },
  {
   "cell_type": "code",
   "execution_count": 8,
   "metadata": {
    "collapsed": true
   },
   "outputs": [],
   "source": [
    "def get_r2_error(y_pred) :\n",
    "    r2_error=r2_score(y_test,y_pred)\n",
    "    print(bold + \"R SQUARED ERROR : \" + reset, r2_error)\n",
    "    return r2_error"
   ]
  },
  {
   "cell_type": "code",
   "execution_count": 9,
   "metadata": {
    "collapsed": true
   },
   "outputs": [],
   "source": [
    "def get_confusion_matrix(y_pred) :\n",
    "    matrix=confusion_matrix(y_test,y_pred)\n",
    "    print(bold + \"CONFUSION MATRIX :\\n\" + reset, matrix)\n",
    "    return matrix"
   ]
  },
  {
   "cell_type": "code",
   "execution_count": 10,
   "metadata": {
    "collapsed": true
   },
   "outputs": [],
   "source": [
    "def get_classification_report(y_pred) :\n",
    "    report = classification_report(y_test,y_pred,labels=np.unique(y_pred))\n",
    "    #print(\"y_pred:\",y_pred)\n",
    "    #print(\"unique:\",np.unique(y_pred))\n",
    "    print(bold + \"CLASSIFICATION REPORT :\\n\" + reset, report)\n",
    "    return report"
   ]
  },
  {
   "cell_type": "code",
   "execution_count": null,
   "metadata": {
    "collapsed": true
   },
   "outputs": [],
   "source": []
  }
 ],
 "metadata": {
  "kernelspec": {
   "display_name": "Python 3",
   "language": "python",
   "name": "python3"
  },
  "language_info": {
   "codemirror_mode": {
    "name": "ipython",
    "version": 3
   },
   "file_extension": ".py",
   "mimetype": "text/x-python",
   "name": "python",
   "nbconvert_exporter": "python",
   "pygments_lexer": "ipython3",
   "version": "3.6.3"
  }
 },
 "nbformat": 4,
 "nbformat_minor": 2
}
