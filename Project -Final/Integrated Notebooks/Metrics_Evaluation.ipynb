{
 "cells": [
  {
   "cell_type": "code",
   "execution_count": 1,
   "metadata": {
    "collapsed": true
   },
   "outputs": [],
   "source": [
    "%run Analysis.ipynb"
   ]
  },
  {
   "cell_type": "code",
   "execution_count": 2,
   "metadata": {
    "collapsed": true
   },
   "outputs": [],
   "source": [
    "def get_metrics(y_pred,clf) :\n",
    "    accuracy=get_accuracy(y_pred)\n",
    "    cross_validation=get_cross_validation(clf)\n",
    "    mean_square_error=get_mean_square_error(y_pred)\n",
    "    r2_error=get_r2_error(y_pred)\n",
    "    confusion_matrix=get_confusion_matrix(y_pred)\n",
    "    report=get_classification_report(y_pred)\n",
    "    return accuracy,cross_validation,mean_square_error,r2_error,confusion_matrix,report"
   ]
  }
 ],
 "metadata": {
  "kernelspec": {
   "display_name": "Python 3",
   "language": "python",
   "name": "python3"
  },
  "language_info": {
   "codemirror_mode": {
    "name": "ipython",
    "version": 3
   },
   "file_extension": ".py",
   "mimetype": "text/x-python",
   "name": "python",
   "nbconvert_exporter": "python",
   "pygments_lexer": "ipython3",
   "version": "3.6.3"
  }
 },
 "nbformat": 4,
 "nbformat_minor": 2
}
