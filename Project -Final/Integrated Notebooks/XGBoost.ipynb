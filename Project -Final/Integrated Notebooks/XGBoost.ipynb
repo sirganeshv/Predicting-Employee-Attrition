{
 "cells": [
  {
   "cell_type": "code",
   "execution_count": 1,
   "metadata": {
    "collapsed": true
   },
   "outputs": [],
   "source": [
    "import pandas as pd\n",
    "import numpy as np"
   ]
  },
  {
   "cell_type": "code",
   "execution_count": 2,
   "metadata": {
    "collapsed": true
   },
   "outputs": [],
   "source": [
    "from xgboost.sklearn import XGBClassifier"
   ]
  },
  {
   "cell_type": "code",
   "execution_count": 3,
   "metadata": {
    "collapsed": true
   },
   "outputs": [],
   "source": [
    "%store -r X_train\n",
    "%store -r X_test\n",
    "%store -r y_train"
   ]
  },
  {
   "cell_type": "code",
   "execution_count": 4,
   "metadata": {
    "collapsed": true
   },
   "outputs": [],
   "source": [
    "clf = XGBClassifier()"
   ]
  },
  {
   "cell_type": "code",
   "execution_count": 5,
   "metadata": {},
   "outputs": [
    {
     "name": "stdout",
     "output_type": "stream",
     "text": [
      "XGBClassifier(base_score=0.5, booster='gbtree', colsample_bylevel=1,\n",
      "       colsample_bytree=1, gamma=0, learning_rate=0.1, max_delta_step=0,\n",
      "       max_depth=3, min_child_weight=1, missing=None, n_estimators=100,\n",
      "       n_jobs=1, nthread=None, objective='binary:logistic', random_state=0,\n",
      "       reg_alpha=0, reg_lambda=1, scale_pos_weight=1, seed=None,\n",
      "       silent=True, subsample=1)\n"
     ]
    }
   ],
   "source": [
    "trained_model=clf.fit(X_train,y_train)\n",
    "print(trained_model)"
   ]
  },
  {
   "cell_type": "code",
   "execution_count": 6,
   "metadata": {
    "collapsed": true
   },
   "outputs": [],
   "source": [
    "y_pred = clf.predict(X_test)\n",
    "y_pred =clf.predict(X_test)\n",
    "one_indices = np.where(y_pred==1)"
   ]
  },
  {
   "cell_type": "code",
   "execution_count": 7,
   "metadata": {
    "collapsed": true
   },
   "outputs": [],
   "source": [
    "%run Metrics_Evaluation.ipynb"
   ]
  },
  {
   "cell_type": "code",
   "execution_count": 8,
   "metadata": {},
   "outputs": [
    {
     "name": "stdout",
     "output_type": "stream",
     "text": [
      "\u001b[1mACCURACY : \u001b[0;0m 0.887755102041\n",
      "\u001b[1mCROSS VALIDATION SCORE : \u001b[0;0m 0.857142857143\n",
      "\u001b[1mMEAN SQUARED ERROR : \u001b[0;0m 0.112244897959\n",
      "\u001b[1mR SQUARED ERROR : \u001b[0;0m 0.0244343891403\n",
      "\u001b[1mCONFUSION MATRIX :\n",
      "\u001b[0;0m [[250   5]\n",
      " [ 28  11]]\n",
      "\u001b[1mCLASSIFICATION REPORT :\n",
      "\u001b[0;0m              precision    recall  f1-score   support\n",
      "\n",
      "          0       0.90      0.98      0.94       255\n",
      "          1       0.69      0.28      0.40        39\n",
      "\n",
      "avg / total       0.87      0.89      0.87       294\n",
      "\n"
     ]
    }
   ],
   "source": [
    "accuracy,cross_validation,mean_square_error,r2_error,confusion_matrix,report=get_metrics(y_pred,clf)"
   ]
  },
  {
   "cell_type": "code",
   "execution_count": 9,
   "metadata": {
    "collapsed": true
   },
   "outputs": [],
   "source": [
    "#print(accuracy)\n",
    "#print(cross_validation)"
   ]
  },
  {
   "cell_type": "code",
   "execution_count": 10,
   "metadata": {},
   "outputs": [
    {
     "name": "stdout",
     "output_type": "stream",
     "text": [
      "Stored 'accuracy' (float64)\n",
      "Stored 'cross_validation' (float64)\n",
      "Stored 'one_indices' (tuple)\n"
     ]
    }
   ],
   "source": [
    "%store accuracy\n",
    "%store cross_validation\n",
    "%store one_indices"
   ]
  }
 ],
 "metadata": {
  "kernelspec": {
   "display_name": "Python 3",
   "language": "python",
   "name": "python3"
  },
  "language_info": {
   "codemirror_mode": {
    "name": "ipython",
    "version": 3
   },
   "file_extension": ".py",
   "mimetype": "text/x-python",
   "name": "python",
   "nbconvert_exporter": "python",
   "pygments_lexer": "ipython3",
   "version": "3.6.3"
  }
 },
 "nbformat": 4,
 "nbformat_minor": 2
}
