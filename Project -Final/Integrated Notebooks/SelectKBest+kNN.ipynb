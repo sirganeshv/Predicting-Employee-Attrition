{
 "cells": [
  {
   "cell_type": "code",
   "execution_count": 1,
   "metadata": {
    "collapsed": true
   },
   "outputs": [],
   "source": [
    "import sklearn\n",
    "import pandas as pd\n",
    "import numpy as np"
   ]
  },
  {
   "cell_type": "code",
   "execution_count": 2,
   "metadata": {
    "collapsed": true
   },
   "outputs": [],
   "source": [
    "from sklearn.pipeline import make_pipeline\n",
    "from sklearn import metrics\n",
    "from sklearn.feature_selection import SelectKBest\n",
    "from sklearn.feature_selection import chi2\n",
    "from sklearn.neighbors import KNeighborsClassifier\n",
    "import math"
   ]
  },
  {
   "cell_type": "code",
   "execution_count": 3,
   "metadata": {
    "collapsed": true
   },
   "outputs": [],
   "source": [
    "%store -r df\n",
    "%store -r X_train\n",
    "%store -r X_test\n",
    "%store -r y_train"
   ]
  },
  {
   "cell_type": "code",
   "execution_count": 4,
   "metadata": {
    "collapsed": true
   },
   "outputs": [],
   "source": [
    "record_length = len(df.index)\n",
    "#print (record_length)"
   ]
  },
  {
   "cell_type": "code",
   "execution_count": 5,
   "metadata": {
    "collapsed": true
   },
   "outputs": [],
   "source": [
    "clf = make_pipeline(\n",
    "    SelectKBest(chi2,k=20), \n",
    "    KNeighborsClassifier(n_neighbors=int(math.sqrt(record_length)))\n",
    ")"
   ]
  },
  {
   "cell_type": "code",
   "execution_count": 6,
   "metadata": {},
   "outputs": [
    {
     "data": {
      "text/plain": [
       "Pipeline(memory=None,\n",
       "     steps=[('selectkbest', SelectKBest(k=20, score_func=<function chi2 at 0x00000289C0CF7488>)), ('kneighborsclassifier', KNeighborsClassifier(algorithm='auto', leaf_size=30, metric='minkowski',\n",
       "           metric_params=None, n_jobs=1, n_neighbors=38, p=2,\n",
       "           weights='uniform'))])"
      ]
     },
     "execution_count": 6,
     "metadata": {},
     "output_type": "execute_result"
    }
   ],
   "source": [
    "clf.fit(X_train, y_train)"
   ]
  },
  {
   "cell_type": "code",
   "execution_count": 7,
   "metadata": {
    "collapsed": true
   },
   "outputs": [],
   "source": [
    "y_pred = clf.predict(X_test)\n",
    "y_pred =clf.predict(X_test)\n",
    "one_indices = np.where(y_pred==1)"
   ]
  },
  {
   "cell_type": "code",
   "execution_count": 8,
   "metadata": {},
   "outputs": [
    {
     "name": "stdout",
     "output_type": "stream",
     "text": [
      "Pipeline(memory=None,\n",
      "     steps=[('selectkbest', SelectKBest(k=20, score_func=<function chi2 at 0x00000289C0CF7488>)), ('kneighborsclassifier', KNeighborsClassifier(algorithm='auto', leaf_size=30, metric='minkowski',\n",
      "           metric_params=None, n_jobs=1, n_neighbors=38, p=2,\n",
      "           weights='uniform'))])\n"
     ]
    }
   ],
   "source": [
    "trained_model = clf.fit(X_train,y_train)\n",
    "print(trained_model)"
   ]
  },
  {
   "cell_type": "code",
   "execution_count": 9,
   "metadata": {
    "collapsed": true
   },
   "outputs": [],
   "source": [
    "%run Metrics_Evaluation.ipynb"
   ]
  },
  {
   "cell_type": "code",
   "execution_count": 10,
   "metadata": {},
   "outputs": [
    {
     "name": "stdout",
     "output_type": "stream",
     "text": [
      "\u001b[1mACCURACY : \u001b[0;0m 0.840136054422\n",
      "\u001b[1mCROSS VALIDATION SCORE : \u001b[0;0m 0.838436840606\n",
      "\u001b[1mMEAN SQUARED ERROR : \u001b[0;0m 0.159863945578\n",
      "\u001b[1mR SQUARED ERROR : \u001b[0;0m -0.19028340081\n",
      "\u001b[1mCONFUSION MATRIX :\n",
      "\u001b[0;0m [[247   0]\n",
      " [ 47   0]]\n",
      "\u001b[1mCLASSIFICATION REPORT :\n",
      "\u001b[0;0m              precision    recall  f1-score   support\n",
      "\n",
      "          0       0.84      1.00      0.91       247\n",
      "\n",
      "avg / total       0.84      1.00      0.91       247\n",
      "\n"
     ]
    }
   ],
   "source": [
    "accuracy,cross_validation,mean_square_error,r2_error,confusion_matrix,report=get_metrics(y_pred,clf)"
   ]
  },
  {
   "cell_type": "code",
   "execution_count": 11,
   "metadata": {
    "collapsed": true
   },
   "outputs": [],
   "source": [
    "#print(accuracy)\n",
    "#print(cross_validation)"
   ]
  },
  {
   "cell_type": "code",
   "execution_count": 12,
   "metadata": {},
   "outputs": [
    {
     "name": "stdout",
     "output_type": "stream",
     "text": [
      "Stored 'accuracy' (float64)\n",
      "Stored 'cross_validation' (float64)\n",
      "Stored 'one_indices' (tuple)\n"
     ]
    }
   ],
   "source": [
    "%store accuracy\n",
    "%store cross_validation\n",
    "%store one_indices"
   ]
  }
 ],
 "metadata": {
  "kernelspec": {
   "display_name": "Python 3",
   "language": "python",
   "name": "python3"
  },
  "language_info": {
   "codemirror_mode": {
    "name": "ipython",
    "version": 3
   },
   "file_extension": ".py",
   "mimetype": "text/x-python",
   "name": "python",
   "nbconvert_exporter": "python",
   "pygments_lexer": "ipython3",
   "version": "3.6.3"
  }
 },
 "nbformat": 4,
 "nbformat_minor": 2
}
